{
 "cells": [
  {
   "cell_type": "code",
   "execution_count": 1,
   "metadata": {},
   "outputs": [],
   "source": [
    "import urllib\n",
    "from bs4 import BeautifulSoup as bs "
   ]
  },
  {
   "cell_type": "code",
   "execution_count": 2,
   "metadata": {},
   "outputs": [
    {
     "name": "stdout",
     "output_type": "stream",
     "text": [
      "b'<!-- 0.1 --><!--Python-urllib/3.6--><!DOCTYPE html>\\n<html lang=\"en\">\\n<head>\\n    \\n\\n    \\n\\n<!-- Google Tag Manager -->\\n<script>(function(w,d,s,l,i){w[l]=w[l]||[];w[l].push({\\'gtm.start\\':\\nnew Date().getTime(),event:\\'gtm.js\\'});var f=d.getElementsByTagName(s)[0],\\nj=d.createElement(s),dl=l!=\\'dataLayer\\'?\\'&l=\\'+l:\\'\\';j.async=true;j.src=\\n\\'https://www.googletagmanager.com/gtm.js?id=\\'+i+dl;f.parentNode.insertBefore(j,f);\\n})(window,document,\\'script\\',\\'dataLayer\\',\\'GTM-PT7PC4\\');</script>\\n<!-- End Google Tag Manager -->\\n<meta charset=\"utf-8\">\\n<meta http-equiv=\"X-UA-Compatible\" content=\"IE=edge,chrome=1\">\\n<meta name=\"viewport\" content=\"width=device-width\">\\n<meta name=\"description\" content=\"Keterlambatan jadwal itu bukan karena panitia lokal tes. Melainkan karena vendor atau penyedia peralatan tes itu yang belum siap\">\\n<meta name=\"keywords\" content=\"Berita Terkini, Berita Hari Ini, Breaking News, News Today, News, Hot News, Berita Internasional, Berita Dunia, Berita Nasional, Berita politik, Berita kriminal, Berita Ekonomi Bisnis, Berita Olahraga, Megapolitan, Berita Harian, Berita Akurat, Berita Tepercaya, Kompas\">\\n<meta name=\"googlebot-news\" content=\"index,follow\" />\\n<meta  name=\"googlebot\" content=\"index,follow\" />\\n<meta name=\"author\" content=\"Kompas Cyber Media\">\\n<meta name=\"robots\" content=\"index, follow\" />\\n<meta name=\"language\" content=\"id\" />\\n<meta name=\"geo.country\" content=\"id\" />\\n<meta http-equiv=\"content-language\" content=\"In-Id\" />\\n<meta name=\"geo.placename\" content=\"Indonesia\" />\\n\\n<!-- S:fb meta -->\\n<meta property=\"og:type\" content=\"article\" />\\n<meta property=\"og:image\" content=\"https://asset.kompas.com/data/2017/wp/images/og_facebook.jpg\" />\\n<meta property=\"og:title\" content=\"Indeks Berita News\" />\\n<meta property=\"og:description\" content=\"Keterlambatan jadwal itu bukan karena panitia lokal tes. Melainkan karena vendor atau penyedia peralatan tes itu yang belum siap\">\\n<meta property=\"og:url\" content=\"https://www.kompas.com/\" />\\n<meta property=\"og:site_name\" content=\"KOMPAS.'...\n"
     ]
    }
   ],
   "source": [
    "url = 'https://news.kompas.com/search/all/'\n",
    "html = urllib.request.urlopen(url).read()\n",
    "print(str(html[:2000])+'...')"
   ]
  },
  {
   "cell_type": "code",
   "execution_count": 4,
   "metadata": {},
   "outputs": [
    {
     "data": {
      "text/plain": [
       "['https://regional.kompas.com/read/2018/10/26/15060201/terkendala-teknis-tes-seleksi-cpns-di-kota-malang-molor',\n",
       " 'https://nasional.kompas.com/read/2018/10/26/15040711/ajukan-praperadilan-lagi-maki-tagih-ketegasan-kpk-soal-kasus-bank-century',\n",
       " 'https://megapolitan.kompas.com/read/2018/10/26/15023801/ada-demo-transjakarta-koridor-1-2-dan-6-dialihkan',\n",
       " 'https://internasional.kompas.com/read/2018/10/26/14565451/sudah-13-manajer-google-dipecat-akibat-kasus-pelecehan-seksual',\n",
       " 'https://regional.kompas.com/read/2018/10/26/14512741/dua-pembakar-bendera-yang-berstatus-bebas-minta-perlindungan-polisi',\n",
       " 'https://internasional.kompas.com/read/2018/10/26/14462001/jamal-khashoggi-dipancing-untuk-datang-ke-turki-sebelum-dibunuh',\n",
       " 'https://megapolitan.kompas.com/read/2018/10/26/14455111/nanik-s-deyang-dahnil-dan-said-iqbal-dikonfrontir-soal-kasus-hoaks-ratna',\n",
       " 'https://nasional.kompas.com/read/2018/10/26/14384471/kubu-jokowi-maruf-sebut-pemasangan-iklan-di-videotron-bukan-inisiatif-timses',\n",
       " 'https://megapolitan.kompas.com/read/2018/10/26/14364301/pelapor-nilai-bawaslu-dki-tak-maksimal-tangani-videotron-jokowi-maruf',\n",
       " 'https://regional.kompas.com/read/2018/10/26/14354451/sudah-datang-jauh-jauh-enggak-jadi-tes-cpns',\n",
       " 'https://nasional.kompas.com/read/2018/10/26/14340951/kata-presiden-jokowi-tentang-cepatnya-revolusi-industri-40',\n",
       " 'https://megapolitan.kompas.com/read/2018/10/26/14340011/dubes-inggris-temui-anies-tawarkan-pinjaman-untuk-bangun-infrastruktur',\n",
       " 'https://nasional.kompas.com/read/2018/10/26/14294181/kpk-tak-pernah-keluarkan-surat-pemanggilan-terhadap-kapolri',\n",
       " 'https://megapolitan.kompas.com/read/2018/10/26/14293371/taufik-bayangkan-gerindra-yang-undang-pks-gerindra-kan-partai-besar',\n",
       " 'https://nasional.kompas.com/read/2018/10/26/14292521/5-hal-krusial-yang-didalami-kpk-dalam-kasus-suap-perizinan-meikarta',\n",
       " 'https://regional.kompas.com/read/2018/10/26/14281471/tes-seleksi-cpns-bkn-di-titik-bale-kota-tasikmalaya-bermasalah',\n",
       " 'https://megapolitan.kompas.com/read/2018/10/26/14251991/ada-demo-jalan-merdeka-barat-tidak-dapat-dilintasi']"
      ]
     },
     "execution_count": 4,
     "metadata": {},
     "output_type": "execute_result"
    }
   ],
   "source": [
    "soup = bs(html,'lxml')\n",
    "\n",
    "divs = soup.find_all('h3', attrs={'class':'article__title article__title--medium'})\n",
    "\n",
    "news_links = []\n",
    "for div in divs:\n",
    "    news_links.append(div.a['href'])\n",
    "news_links"
   ]
  },
  {
   "cell_type": "code",
   "execution_count": 7,
   "metadata": {},
   "outputs": [
    {
     "name": "stdout",
     "output_type": "stream",
     "text": [
      "['Terkendala Teknis, Tes Seleksi CPNS di Kota Malang Molor', 'Ajukan Praperadilan Lagi, MAKI Tagih Ketegasan KPK soal Kasus Bank Century', 'Ada Demo, Transjakarta Koridor 1, 2, dan 6 Dialihkan', 'Sudah 13 Manajer Google Dipecat akibat Kasus Pelecehan Seksual', 'Dua Pembakar Bendera yang Berstatus Bebas Minta Perlindungan Polisi', 'Jamal Khashoggi Dipancing untuk Datang ke Turki Sebelum Dibunuh', 'Nanik S Deyang, Dahnil, dan Said Iqbal Dikonfrontasi soal Kasus Hoaks Ratna Sarumpaet', \"Kubu Jokowi-Ma'ruf Sebut Pemasangan Iklan di Videotron Bukan Inisiatif Timses\", \"Pelapor Nilai Bawaslu DKI Tak Maksimal Tangani Videotron Jokowi-Ma'ruf\", '\"Sudah Datang Jauh-jauh, Enggak Jadi Tes CPNS...\"', 'Kata Presiden Jokowi tentang Cepatnya Revolusi Industri 4.0', 'Dubes Inggris Temui Anies, Tawarkan Pinjaman untuk Bangun Infrastruktur', 'KPK Tak Pernah Keluarkan Surat Pemanggilan terhadap Kapolri ', 'Taufik: Bayangkan, Gerindra yang Undang PKS, Gerindra Kan Partai Besar...', '5 Hal Krusial yang Didalami KPK dalam Kasus Suap Perizinan Meikarta', 'Tes Seleksi CPNS BKN di Titik Bale Kota Tasikmalaya Bermasalah', 'Ada Demo, Jalan Merdeka Barat Tidak Dapat Dilintasi']\n"
     ]
    }
   ],
   "source": [
    "titles = []\n",
    "articles = []    \n",
    "for news_link in news_links:\n",
    "    sub_url = news_link\n",
    "    sub_html = urllib.request.urlopen(sub_url).read()\n",
    "    sub_soup = bs(sub_html,'lxml')\n",
    "    \n",
    "    title = sub_soup.find_all('h1', attrs={'class':'read__title'})[0].text\n",
    "    article = sub_soup.find_all('div', attrs={'class':'col-bs9-7'})[0].text\n",
    "    \n",
    "    titles.append(title)\n",
    "    articles.append(article)\n",
    "print(titles)"
   ]
  },
  {
   "cell_type": "code",
   "execution_count": 9,
   "metadata": {},
   "outputs": [
    {
     "data": {
      "text/html": [
       "<div>\n",
       "<style scoped>\n",
       "    .dataframe tbody tr th:only-of-type {\n",
       "        vertical-align: middle;\n",
       "    }\n",
       "\n",
       "    .dataframe tbody tr th {\n",
       "        vertical-align: top;\n",
       "    }\n",
       "\n",
       "    .dataframe thead th {\n",
       "        text-align: right;\n",
       "    }\n",
       "</style>\n",
       "<table border=\"1\" class=\"dataframe\">\n",
       "  <thead>\n",
       "    <tr style=\"text-align: right;\">\n",
       "      <th></th>\n",
       "      <th>judul</th>\n",
       "      <th>artikel</th>\n",
       "    </tr>\n",
       "  </thead>\n",
       "  <tbody>\n",
       "    <tr>\n",
       "      <th>0</th>\n",
       "      <td>Terkendala Teknis, Tes Seleksi CPNS di Kota Ma...</td>\n",
       "      <td>\\n\\n\\n MALANG, KOMPAS.com - Pelaksanaan  tes c...</td>\n",
       "    </tr>\n",
       "    <tr>\n",
       "      <th>1</th>\n",
       "      <td>Ajukan Praperadilan Lagi, MAKI Tagih Ketegasan...</td>\n",
       "      <td>\\n\\n\\nJAKARTA, KOMPAS.com - Pengadilan Negeri ...</td>\n",
       "    </tr>\n",
       "    <tr>\n",
       "      <th>2</th>\n",
       "      <td>Ada Demo, Transjakarta Koridor 1, 2, dan 6 Dia...</td>\n",
       "      <td>\\n\\n\\nJAKARTA, KOMPAS.com - Rute  transjakarta...</td>\n",
       "    </tr>\n",
       "    <tr>\n",
       "      <th>3</th>\n",
       "      <td>Sudah 13 Manajer Google Dipecat akibat Kasus P...</td>\n",
       "      <td>\\n\\n\\nNEW YORK, KOMPAS.com - Perusahaan teknol...</td>\n",
       "    </tr>\n",
       "    <tr>\n",
       "      <th>4</th>\n",
       "      <td>Dua Pembakar Bendera yang Berstatus Bebas Mint...</td>\n",
       "      <td>\\n\\n\\n BANDUNG, KOMPAS.com - Kasus pembakaran ...</td>\n",
       "    </tr>\n",
       "    <tr>\n",
       "      <th>5</th>\n",
       "      <td>Jamal Khashoggi Dipancing untuk Datang ke Turk...</td>\n",
       "      <td>\\n\\n\\nWASHINGTON DC, KOMPAS.com - Jurnalis  Ar...</td>\n",
       "    </tr>\n",
       "    <tr>\n",
       "      <th>6</th>\n",
       "      <td>Nanik S Deyang, Dahnil, dan Said Iqbal Dikonfr...</td>\n",
       "      <td>\\n\\n\\nJAKARTA, KOMPAS.com - Dahnil Anzar Siman...</td>\n",
       "    </tr>\n",
       "    <tr>\n",
       "      <th>7</th>\n",
       "      <td>Kubu Jokowi-Ma'ruf Sebut Pemasangan Iklan di V...</td>\n",
       "      <td>\\n\\n\\nJAKARTA, KOMPAS.com - Wakil Ketua Tim Ka...</td>\n",
       "    </tr>\n",
       "    <tr>\n",
       "      <th>8</th>\n",
       "      <td>Pelapor Nilai Bawaslu DKI Tak Maksimal Tangani...</td>\n",
       "      <td>\\n\\n\\nJAKARTA, KOMPAS.com - Sahroni, pelapor k...</td>\n",
       "    </tr>\n",
       "    <tr>\n",
       "      <th>9</th>\n",
       "      <td>\"Sudah Datang Jauh-jauh, Enggak Jadi Tes CPNS...\"</td>\n",
       "      <td>\\n\\n\\n MAGELANG, KOMPAS.com -  Tes Calon Pegaw...</td>\n",
       "    </tr>\n",
       "  </tbody>\n",
       "</table>\n",
       "</div>"
      ],
      "text/plain": [
       "                                               judul  \\\n",
       "0  Terkendala Teknis, Tes Seleksi CPNS di Kota Ma...   \n",
       "1  Ajukan Praperadilan Lagi, MAKI Tagih Ketegasan...   \n",
       "2  Ada Demo, Transjakarta Koridor 1, 2, dan 6 Dia...   \n",
       "3  Sudah 13 Manajer Google Dipecat akibat Kasus P...   \n",
       "4  Dua Pembakar Bendera yang Berstatus Bebas Mint...   \n",
       "5  Jamal Khashoggi Dipancing untuk Datang ke Turk...   \n",
       "6  Nanik S Deyang, Dahnil, dan Said Iqbal Dikonfr...   \n",
       "7  Kubu Jokowi-Ma'ruf Sebut Pemasangan Iklan di V...   \n",
       "8  Pelapor Nilai Bawaslu DKI Tak Maksimal Tangani...   \n",
       "9  \"Sudah Datang Jauh-jauh, Enggak Jadi Tes CPNS...\"   \n",
       "\n",
       "                                             artikel  \n",
       "0  \\n\\n\\n MALANG, KOMPAS.com - Pelaksanaan  tes c...  \n",
       "1  \\n\\n\\nJAKARTA, KOMPAS.com - Pengadilan Negeri ...  \n",
       "2  \\n\\n\\nJAKARTA, KOMPAS.com - Rute  transjakarta...  \n",
       "3  \\n\\n\\nNEW YORK, KOMPAS.com - Perusahaan teknol...  \n",
       "4  \\n\\n\\n BANDUNG, KOMPAS.com - Kasus pembakaran ...  \n",
       "5  \\n\\n\\nWASHINGTON DC, KOMPAS.com - Jurnalis  Ar...  \n",
       "6  \\n\\n\\nJAKARTA, KOMPAS.com - Dahnil Anzar Siman...  \n",
       "7  \\n\\n\\nJAKARTA, KOMPAS.com - Wakil Ketua Tim Ka...  \n",
       "8  \\n\\n\\nJAKARTA, KOMPAS.com - Sahroni, pelapor k...  \n",
       "9  \\n\\n\\n MAGELANG, KOMPAS.com -  Tes Calon Pegaw...  "
      ]
     },
     "execution_count": 9,
     "metadata": {},
     "output_type": "execute_result"
    }
   ],
   "source": [
    "import pandas as pd\n",
    "data = pd.DataFrame(columns=['judul','artikel'])\n",
    "\n",
    "data['judul'] = titles\n",
    "data['artikel'] = articles\n",
    "\n",
    "data.head(10)"
   ]
  },
  {
   "cell_type": "code",
   "execution_count": 10,
   "metadata": {},
   "outputs": [],
   "source": [
    "writer = pd.ExcelWriter('asd.xlsx')\n",
    "data.to_excel(writer,'Sheet1')\n",
    "writer.save()"
   ]
  }
 ],
 "metadata": {
  "kernelspec": {
   "display_name": "Python 3",
   "language": "python",
   "name": "python3"
  },
  "language_info": {
   "codemirror_mode": {
    "name": "ipython",
    "version": 3
   },
   "file_extension": ".py",
   "mimetype": "text/x-python",
   "name": "python",
   "nbconvert_exporter": "python",
   "pygments_lexer": "ipython3",
   "version": "3.6.5"
  }
 },
 "nbformat": 4,
 "nbformat_minor": 2
}
